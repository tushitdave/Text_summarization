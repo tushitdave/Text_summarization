{
 "cells": [
  {
   "cell_type": "markdown",
   "id": "fccd1dfa",
   "metadata": {},
   "source": [
    "<div style=\"text-align: center\"> <h1>Document Summary and RAG</h1></div>"
   ]
  },
  {
   "cell_type": "code",
   "execution_count": 13,
   "id": "745b39b1",
   "metadata": {},
   "outputs": [],
   "source": [
    "# !pip install llama_index"
   ]
  },
  {
   "cell_type": "code",
   "execution_count": 110,
   "id": "72f35f89",
   "metadata": {},
   "outputs": [],
   "source": [
    "# Importing All required libraray from llama_index\n",
    "try:\n",
    "    from llama_index import (\n",
    "        SimpleDirectoryReader,\n",
    "        LLMPredictor,\n",
    "        ServiceContext,\n",
    "        get_response_synthesizer,\n",
    "    )\n",
    "    from llama_index.indices.document_summary import DocumentSummaryIndex\n",
    "    from llama_index.llms import OpenAI\n",
    "    from llama_index.indices.loading import load_index_from_storage\n",
    "    from llama_index import StorageContext\n",
    "    from llama_index.indices.document_summary import DocumentSummaryIndexRetriever\n",
    "    from llama_index.query_engine import RetrieverQueryEngine\n",
    "\n",
    "    import os\n",
    "    import openai\n",
    "\n",
    "    import logging\n",
    "    import sys\n",
    "    import json\n",
    "    import requests\n",
    "    from pathlib import Path\n",
    "\n",
    "    import nest_asyncio\n",
    "    from IPython.display import HTML, display\n",
    "\n",
    "except ImportError as e:\n",
    "    print(\"Error while importing one or more modules:\", e)\n",
    "\n",
    "import warnings\n",
    "warnings.filterwarnings('ignore')"
   ]
  },
  {
   "cell_type": "code",
   "execution_count": 4,
   "id": "4eb51f23",
   "metadata": {},
   "outputs": [],
   "source": [
    "with open(r'D:\\Data Science\\OpenAI_key management\\key.json') as config_file:\n",
    "    config = json.load(config_file)\n",
    "    api_key = config['api_key']\n",
    "\n",
    "openai.api_key = api_key  # Replace it with your Own Key"
   ]
  },
  {
   "cell_type": "code",
   "execution_count": 8,
   "id": "a5373abc",
   "metadata": {},
   "outputs": [],
   "source": [
    "# Configure the logging behavior\n",
    "logging.basicConfig(\n",
    "    stream=sys.stdout,  # Send log messages to standard output\n",
    "    level=logging.INFO  # Set log level to INFO\n",
    ")\n",
    "\n",
    "# Create a StreamHandler and add it to the logger\n",
    "stream_handler = logging.StreamHandler(stream=sys.stdout)\n",
    "logger = logging.getLogger()\n",
    "logger.addHandler(stream_handler)\n",
    "\n",
    "# Apply the new asyncio event loop\n",
    "nest_asyncio.apply()"
   ]
  },
  {
   "cell_type": "code",
   "execution_count": 19,
   "id": "8dd22c6c",
   "metadata": {},
   "outputs": [],
   "source": [
    "## Helper function to fetch Text data from Wikipedia pages\n",
    "\n",
    "def fetch_and_save_wiki_text(title):\n",
    "    response = requests.get(\n",
    "        \"https://en.wikipedia.org/w/api.php\",\n",
    "        params={\n",
    "            \"action\": \"query\",\n",
    "            \"format\": \"json\",\n",
    "            \"titles\": title,\n",
    "            \"prop\": \"extracts\",\n",
    "            \"explaintext\": True,\n",
    "        },\n",
    "    ).json()\n",
    "    \n",
    "    page = next(iter(response[\"query\"][\"pages\"].values()))\n",
    "    wiki_text = page[\"extract\"]\n",
    "    \n",
    "    data_path = Path(\"data\")\n",
    "    if not data_path.exists():\n",
    "        Path.mkdir(data_path)\n",
    "\n",
    "    with open(data_path / f\"{title}.txt\", \"w\", encoding=\"utf-8\") as fp:\n",
    "        fp.write(wiki_text)"
   ]
  },
  {
   "cell_type": "code",
   "execution_count": 22,
   "id": "7d547c6b",
   "metadata": {},
   "outputs": [],
   "source": [
    "wiki_AirSports_titles = ['Aerobatics', 'Air racing', 'Gliding', 'Hang gliding', 'Parachuting']\n",
    "\n",
    "for title in wiki_AirSports_titles:\n",
    "    fetch_and_save_wiki_text(title)"
   ]
  },
  {
   "cell_type": "code",
   "execution_count": 27,
   "id": "f7ef7083",
   "metadata": {},
   "outputs": [],
   "source": [
    "# Load all wiki documents\n",
    "\n",
    "AirSport_docs = []\n",
    "\n",
    "for sports_title in wiki_AirSports_titles:\n",
    "    docs = SimpleDirectoryReader(input_files=[f\"data/{sports_title}.txt\"]).load_data()\n",
    "    docs[0].doc_id = sports_title\n",
    "    AirSport_docs.extend(docs)"
   ]
  },
  {
   "cell_type": "code",
   "execution_count": 43,
   "id": "f1ec8df4",
   "metadata": {
    "scrolled": false
   },
   "outputs": [],
   "source": [
    "# AirSport_docs[0]"
   ]
  },
  {
   "cell_type": "code",
   "execution_count": 44,
   "id": "d21054e5",
   "metadata": {},
   "outputs": [],
   "source": [
    "chatgpt = OpenAI(temperature=0, \n",
    "                 model=\"gpt-3.5-turbo\") # generated text will be deterministic (less random) considering Temp =0\n",
    "                                        # Using gpt-3.5-turbo model from Open AI\n",
    "\n",
    "# ServiceContext using the initialized LLM Predictor\n",
    "service_context = ServiceContext.from_defaults(llm=chatgpt, \n",
    "                                               chunk_size=1024)\n",
    "\n",
    "# Define response synthesizer with specific settings\n",
    "response_synthesizer = get_response_synthesizer(\n",
    "    response_mode=\"tree_summarize\", use_async=True\n",
    ")\n",
    "\n",
    "# Helper function to build document Summary and indexes\n",
    "def build_document_summary_index(docs, service_context, response_synthesizer):\n",
    "    \"\"\"\n",
    "    Build a document summary index using the provided documents, service context, and response synthesizer.\n",
    "    \n",
    "    Parameters:\n",
    "    - docs: List of documents to build the index from\n",
    "    - service_context: Service context for interacting with the LLM Predictor\n",
    "    - response_synthesizer: Response synthesizer settings\n",
    "    \n",
    "    Returns:\n",
    "    - doc_summary_index: DocumentSummaryIndex instance\n",
    "    \"\"\"\n",
    "    doc_summary_index = DocumentSummaryIndex.from_documents(\n",
    "        docs,\n",
    "        service_context=service_context,\n",
    "        response_synthesizer=response_synthesizer,\n",
    "    )\n",
    "    return doc_summary_index"
   ]
  },
  {
   "cell_type": "code",
   "execution_count": 88,
   "id": "46e6856d",
   "metadata": {},
   "outputs": [],
   "source": [
    "# service_context"
   ]
  },
  {
   "cell_type": "code",
   "execution_count": 54,
   "id": "32405c01",
   "metadata": {},
   "outputs": [],
   "source": [
    "# building the document summary index\n",
    "built_index = build_document_summary_index(AirSport_docs, service_context, response_synthesizer)"
   ]
  },
  {
   "cell_type": "code",
   "execution_count": 47,
   "id": "fe6d79c7",
   "metadata": {},
   "outputs": [
    {
     "name": "stdout",
     "output_type": "stream",
     "text": [
      "<llama_index.indices.document_summary.base.DocumentSummaryIndex object at 0x000001EAFA142400>\n"
     ]
    }
   ],
   "source": [
    "print(built_index)"
   ]
  },
  {
   "cell_type": "code",
   "execution_count": 68,
   "id": "baf0c60b",
   "metadata": {},
   "outputs": [
    {
     "data": {
      "text/plain": [
       "'The provided text is about air racing, a type of motorsport that involves airplanes or other aircraft competing over a fixed course. It provides historical information about the first air races, including notable events and pilots. It also mentions different classes of racing airplanes and notable racing pilots. The text also mentions cultural depictions of air racing in movies and books. \\n\\nSome questions that this text can answer include:\\n- What is air racing?\\n- When and where was the first air race held?\\n- Who were some of the early racing pilots?\\n- What are some notable racing airplanes?\\n- How has air racing been depicted in popular culture?\\n- Are there any active air races today?\\n- What are some different classes of racing airplanes?'"
      ]
     },
     "execution_count": 68,
     "metadata": {},
     "output_type": "execute_result"
    }
   ],
   "source": [
    "built_index.get_document_summary(\"Air racing\")"
   ]
  },
  {
   "cell_type": "code",
   "execution_count": 82,
   "id": "bd61ee71",
   "metadata": {},
   "outputs": [
    {
     "data": {
      "text/html": [
       "<font color='green'><u><b>Summary:</b></u></font><br> The provided text is about hang gliding, an air sport or recreational activity in which a pilot flies a foot-launched aircraft called a hang glider. It discusses various aspects of hang gliding, including its history, components of a hang glider, training and safety measures, launch techniques, soaring flight and cross-country flying, performance of hang gliders, stability and equilibrium, instruments used by hang glider pilots, records set in hang gliding, different types of competitions, classes of hang gliders, basic aerobatic maneuvers performed in hang gliders, and comparisons to other glider aircraft."
      ],
      "text/plain": [
       "<IPython.core.display.HTML object>"
      ]
     },
     "metadata": {},
     "output_type": "display_data"
    },
    {
     "data": {
      "text/html": [
       "<font color='blue'><u><b>Questions:</b></u></font><br>\n",
       "\n",
       "Some questions that this text can answer include:\n",
       "- What is hang gliding and how does it work?\n",
       "- What are the components of a hang glider?\n",
       "- What training and safety measures are recommended for hang gliding?\n",
       "- What are the different launch techniques for hang gliding?\n",
       "- How do hang gliders achieve soaring flight and cross-country flying?\n",
       "- What is the performance of hang gliders in terms of glide ratio and speed range?\n",
       "- How are hang gliders stabilized and maintained in equilibrium during flight?\n",
       "- What instruments do hang glider pilots use?\n",
       "- What records have been set in hang gliding?\n",
       "- What types of competitions are there in hang gliding?\n",
       "- What are the different classes of hang gliders?\n",
       "- What aerobatic maneuvers can be performed in a hang glider?\n",
       "- How do hang gliders compare to other glider aircraft?"
      ],
      "text/plain": [
       "<IPython.core.display.HTML object>"
      ]
     },
     "metadata": {},
     "output_type": "display_data"
    }
   ],
   "source": [
    "def display_summary_and_questions(text, summary_color=\"green\", questions_color=\"blue\"):\n",
    "    summary_start = 'The provided text is about'\n",
    "    questions_start = '\\n\\nSome questions that this text can answer'\n",
    "\n",
    "    summary_end = text.find(questions_start)\n",
    "    summary = text[:summary_end]\n",
    "    questions = text[summary_end:]\n",
    "\n",
    "    formatted_summary = f\"<font color='{summary_color}'><u><b>Summary:</b></u></font><br> {summary}\"\n",
    "    formatted_questions = f\"<font color='{questions_color}'><u><b>Questions:</b></u></font><br>{questions.replace(' -', '<br>-')}\"\n",
    "\n",
    "    display(HTML(formatted_summary))\n",
    "    display(HTML(formatted_questions))\n",
    "\n",
    "# Example usage\n",
    "summary_and_questions_text = built_index.get_document_summary(\"Hang gliding\")\n",
    "display_summary_and_questions(summary_and_questions_text)\n"
   ]
  },
  {
   "cell_type": "code",
   "execution_count": 107,
   "id": "02dd2d0f",
   "metadata": {},
   "outputs": [],
   "source": [
    "def query_index(response):\n",
    "\n",
    "    storage_context = StorageContext.from_defaults(persist_dir=persist_dir)\n",
    "    built_index = load_index_from_storage(storage_context)\n",
    "\n",
    "    query_engine = built_index.as_query_engine(\n",
    "        response_mode=\"tree_summarize\", use_async=True\n",
    "    )\n",
    "    query_response = query_engine.query(response)\n",
    "    return query_response"
   ]
  },
  {
   "cell_type": "code",
   "execution_count": 109,
   "id": "472d5f5a",
   "metadata": {},
   "outputs": [
    {
     "name": "stdout",
     "output_type": "stream",
     "text": [
      "Records that have been set in hang gliding include distance covered in cross-country flights, duration of flights, altitude gained, and speed achieved. Some specific examples of these records include Dustin B. Martin's world record for straight distance, covering a distance of 764 km (475 mi) in 2012, Judy Leden's altitude record for a balloon-launched hang glider, reaching a height of 11,800 m (38,800 ft) in 1994, and Leden's record for gain of height, climbing to 3,970 m (13,025 ft) in 1992. These are just a few examples of the records that have been achieved in hang gliding.\n"
     ]
    }
   ],
   "source": [
    "# Persist the index\n",
    "built_index.storage_context.persist(\"index\")\n",
    "\n",
    "response_text = \"What records have been set in hang gliding?\"\n",
    "query_response = query_index(response_text)\n",
    "print(query_response)\n"
   ]
  },
  {
   "cell_type": "code",
   "execution_count": 55,
   "id": "2ed29963",
   "metadata": {},
   "outputs": [],
   "source": [
    "built_index.storage_context.persist(\"index\")"
   ]
  },
  {
   "cell_type": "code",
   "execution_count": 56,
   "id": "1abb40c5",
   "metadata": {},
   "outputs": [],
   "source": [
    "# rebuild storage context\n",
    "storage_context = StorageContext.from_defaults(persist_dir=\"index\")\n",
    "built_index = load_index_from_storage(storage_context)"
   ]
  },
  {
   "cell_type": "code",
   "execution_count": 58,
   "id": "6e39a663",
   "metadata": {},
   "outputs": [],
   "source": [
    "query_engine = built_index.as_query_engine(\n",
    "    response_mode=\"tree_summarize\", use_async=True\n",
    ")"
   ]
  },
  {
   "cell_type": "code",
   "execution_count": 86,
   "id": "234cd9a2",
   "metadata": {},
   "outputs": [],
   "source": [
    "response = query_engine.query(\"Explain me Rigid Wing Class?\")"
   ]
  },
  {
   "cell_type": "code",
   "execution_count": 87,
   "id": "316f4294",
   "metadata": {},
   "outputs": [
    {
     "name": "stdout",
     "output_type": "stream",
     "text": [
      "The Rigid Wing Class refers to a specific class of hang gliders that have a rigid structure, as opposed to a flexible wing. These hang gliders have a frame made of materials such as aluminum or composite, which provides more stability and control compared to flexible wing hang gliders. The flight of the hang glider in the Rigid Wing Class is controlled by spoilers, which are typically located on top of the wing. The pilot hangs below the wing without any additional fairing. Rigid wing hang gliders offer better performance compared to other classes and are generally more expensive. They have a higher glide ratio and a wider speed range, allowing for faster and more efficient flight. Rigid wing hang gliders are often used by experienced pilots who are looking for higher performance and more advanced flying capabilities.\n"
     ]
    }
   ],
   "source": [
    "print(response)"
   ]
  },
  {
   "cell_type": "code",
   "execution_count": 94,
   "id": "ecc3d91e",
   "metadata": {
    "scrolled": false
   },
   "outputs": [],
   "source": [
    "response = query_engine.query(\"What records have been set in hang gliding?\")"
   ]
  },
  {
   "cell_type": "code",
   "execution_count": 95,
   "id": "26cf3e9d",
   "metadata": {},
   "outputs": [
    {
     "name": "stdout",
     "output_type": "stream",
     "text": [
      "Various records have been set in hang gliding, including the world record for straight distance, altitude gained, and speed achieved. These records can vary depending on the category and type of hang glider used. Some notable records include Dustin B. Martin holding the world record for straight distance with a distance of 764 km (475 mi) in 2012, Judy Leden holding the altitude record for a balloon-launched hang glider at 11,800 m (38,800 ft), and Judy Leden also holding the gain of height record at 3,970 m (13,025 ft). These records are sanctioned by the FAI (Fédération Aéronautique Internationale).\n"
     ]
    }
   ],
   "source": [
    "print(response)"
   ]
  },
  {
   "cell_type": "markdown",
   "id": "23da9504",
   "metadata": {},
   "source": [
    "### LLM- Based Retreivel"
   ]
  },
  {
   "cell_type": "code",
   "execution_count": 93,
   "id": "9acccee6",
   "metadata": {},
   "outputs": [],
   "source": [
    "retriever = DocumentSummaryIndexRetriever(\n",
    "    built_index,\n",
    "    # choice_select_prompt=choice_select_prompt,\n",
    "    # choice_batch_size=choice_batch_size,\n",
    "    # format_node_batch_fn=format_node_batch_fn,\n",
    "    # parse_choice_select_answer_fn=parse_choice_select_answer_fn,\n",
    "    # service_context=service_context\n",
    ")"
   ]
  },
  {
   "cell_type": "code",
   "execution_count": 96,
   "id": "dd2dab57",
   "metadata": {},
   "outputs": [],
   "source": [
    "retrieved_nodes = retriever.retrieve(\"What records have been set in hang gliding?\")"
   ]
  },
  {
   "cell_type": "code",
   "execution_count": 97,
   "id": "51afc4ca",
   "metadata": {},
   "outputs": [
    {
     "name": "stdout",
     "output_type": "stream",
     "text": [
      "10.0\n",
      "Hang gliding is an air sport or recreational activity in which a pilot flies a light, non-motorised foot-launched heavier-than-air aircraft called a hang glider. Most modern hang gliders are made of an aluminium alloy or composite frame covered with synthetic sailcloth to form a wing. Typically the pilot is in a harness suspended from the airframe, and controls the aircraft by shifting body weight in opposition to a control frame.\n",
      "Early hang gliders had a low lift-to-drag ratio, so pilots were restricted to gliding down small hills. By the 1980s this ratio significantly improved, and since then pilots have been able to soar for hours, gain thousands of feet of altitude in thermal updrafts, perform aerobatics, and glide cross-country for hundreds of kilometers. The Federation Aeronautique Internationale and national airspace governing organisations control some regulatory aspects of hang gliding. Obtaining the safety benefits of being instructed is highly recommended and indeed a mandatory requirement in many countries.\n",
      "\n",
      "\n",
      "== History ==\n",
      "\n",
      "In 1853, George Cayley invented a slope-launched, piloted glider.\n",
      "Most early glider designs did not ensure safe flight; the problem was that early flight pioneers did not sufficiently understand the underlying principles that made a bird's wing work. Starting in the 1880s technical and scientific advancements were made that led to the first truly practical gliders, such as those developed in the United States by John Joseph Montgomery. Otto Lilienthal built controllable gliders in the 1890s, with which he could ridge soar. His rigorously documented work influenced later designers, making Lilienthal one of the most influential early aviation pioneers. His aircraft was controlled by weight shift and is similar to a modern hang glider.\n",
      "\n",
      "Hang gliding saw a stiffened flexible wing hang glider in 1904, when Jan Lavezzari flew a double lateen sail hang glider off Berck Beach, France. In 1910 in Breslau, the triangle control frame with hang glider pilot hung behind the triangle in a hang glider, was evident in a gliding club's activity.  The biplane hang glider was very widely publicized in public magazines with plans for building; such biplane hang gliders were constructed and flown in several nations since Octave Chanute and his tailed biplane hang gliders were demonstrated. In April 1909, a how-to article by Carl S. Bates proved to be a seminal hang glider article that seemingly affected builders even of contemporary times.  Several builders would have their first hang glider made by following the plan in his article.   Volmer Jensen with a biplane hang glider in 1940 called VJ-11 allowed safe three-axis control of a foot-launched hang glider.\n",
      "On 23 November 1948, Francis Rogallo and Gertrude Rogallo applied for a kite patent for a fully flexible kited wing with approved claims for its stiffenings and gliding uses; the flexible wing or Rogallo wing, which in 1957 the American space agency NASA began testing in various flexible and semi-rigid configurations in order to use it as a recovery system for the Gemini space capsules. The various stiffening formats and the wing's simplicity of design and ease of construction, along with its capability of slow flight and its gentle landing characteristics, did not go unnoticed by hang glider enthusiasts. In 1960–1962 Barry Hill Palmer adapted the flexible wing concept to make foot-launched hang gliders with four different control arrangements. In 1963 Mike Burns adapted the flexible wing to build a towable kite-hang glider he called Skiplane. In 1963, John W. Dickenson adapted the flexible wing airfoil concept to make another water-ski kite glider; for this, the Fédération Aéronautique Internationale vested Dickenson with the Hang Gliding Diploma (2006) for the invention of the \"modern\" hang glider.  Since then, the Rogallo wing has been the most used airfoil of hang gliders.\n",
      "\n",
      "\n",
      "== Components ==\n"
     ]
    }
   ],
   "source": [
    "print(retrieved_nodes[0].score)\n",
    "print(retrieved_nodes[0].node.get_text())"
   ]
  },
  {
   "cell_type": "markdown",
   "id": "4bff3aff",
   "metadata": {},
   "source": [
    "### With Query Engine"
   ]
  },
  {
   "cell_type": "code",
   "execution_count": 99,
   "id": "b92284ee",
   "metadata": {},
   "outputs": [],
   "source": [
    "def run_query(query, retriever):\n",
    "    # configure response synthesizer\n",
    "    response_synthesizer = get_response_synthesizer()\n",
    "\n",
    "    # assemble query engine\n",
    "    query_engine = RetrieverQueryEngine(\n",
    "        retriever=retriever,\n",
    "        response_synthesizer=response_synthesizer,\n",
    "    )\n",
    "\n",
    "    response = query_engine.query(query)\n",
    "    return response"
   ]
  },
  {
   "cell_type": "code",
   "execution_count": 100,
   "id": "1c3a830c",
   "metadata": {},
   "outputs": [
    {
     "name": "stdout",
     "output_type": "stream",
     "text": [
      "Hang gliding has seen various records set in terms of distance, duration, and altitude. These records showcase the progress and achievements in the sport, as well as the impressive capabilities of modern hang gliders.\n"
     ]
    }
   ],
   "source": [
    "# Example usage\n",
    "query = \"What records have been set in hang gliding?\"\n",
    "retriever = retriever\n",
    "response = run_query(query, retriever)\n",
    "print(response)"
   ]
  },
  {
   "cell_type": "code",
   "execution_count": null,
   "id": "fbbf17cf",
   "metadata": {},
   "outputs": [],
   "source": []
  }
 ],
 "metadata": {
  "kernelspec": {
   "display_name": "Python 3 (ipykernel)",
   "language": "python",
   "name": "python3"
  },
  "language_info": {
   "codemirror_mode": {
    "name": "ipython",
    "version": 3
   },
   "file_extension": ".py",
   "mimetype": "text/x-python",
   "name": "python",
   "nbconvert_exporter": "python",
   "pygments_lexer": "ipython3",
   "version": "3.9.12"
  }
 },
 "nbformat": 4,
 "nbformat_minor": 5
}
