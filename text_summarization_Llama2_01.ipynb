{
  "nbformat": 4,
  "nbformat_minor": 0,
  "metadata": {
    "colab": {
      "private_outputs": true,
      "provenance": [],
      "gpuType": "T4",
      "authorship_tag": "ABX9TyOUbtqWFbv4NC4CnKdFIfA7",
      "include_colab_link": true
    },
    "kernelspec": {
      "name": "python3",
      "display_name": "Python 3"
    },
    "language_info": {
      "name": "python"
    },
    "accelerator": "GPU"
  },
  "cells": [
    {
      "cell_type": "markdown",
      "metadata": {
        "id": "view-in-github",
        "colab_type": "text"
      },
      "source": [
        "<a href=\"https://colab.research.google.com/github/tushitdave/Text_summarization/blob/main/text_summarization_Llama2_01.ipynb\" target=\"_parent\"><img src=\"https://colab.research.google.com/assets/colab-badge.svg\" alt=\"Open In Colab\"/></a>"
      ]
    },
    {
      "cell_type": "code",
      "execution_count": null,
      "metadata": {
        "id": "D5oHI7RjaqJb"
      },
      "outputs": [],
      "source": [
        "!pip install -q transformers einops accelerate langchain bitsandbytes"
      ]
    },
    {
      "cell_type": "markdown",
      "source": [
        "Login in !huggingface-cli login"
      ],
      "metadata": {
        "id": "SeGGdbRQa2q-"
      }
    },
    {
      "cell_type": "code",
      "source": [
        "!huggingface-cli login"
      ],
      "metadata": {
        "id": "-YL6NG1favn7"
      },
      "execution_count": null,
      "outputs": []
    },
    {
      "cell_type": "code",
      "source": [
        "!git config --global credential.helper store"
      ],
      "metadata": {
        "id": "jY1WT9inbt3-"
      },
      "execution_count": null,
      "outputs": []
    },
    {
      "cell_type": "code",
      "source": [
        "# !pip install numpy --pre torch torchvision torchaudio --force-reinstall --index-url"
      ],
      "metadata": {
        "id": "7YgozuTIPFdI"
      },
      "execution_count": null,
      "outputs": []
    },
    {
      "cell_type": "code",
      "source": [
        " # Required to implement re-implementation of sub-word units such as byte-pair-encoding (BPE) and unigram language model [Kudo.]\n",
        "!pip install sentencepiece"
      ],
      "metadata": {
        "id": "X56pHJ6wbKh2"
      },
      "execution_count": null,
      "outputs": []
    },
    {
      "cell_type": "code",
      "source": [
        "\n",
        "from langchain import HuggingFacePipeline\n",
        "from transformers import AutoTokenizer # AutoTokenizer is used to fetch the tokenizer associated with the model\n",
        "import transformers\n",
        "import torch\n",
        "\n",
        "model = \"meta-llama/Llama-2-13b-chat-hf\"\n",
        "\n",
        "tokenizer = AutoTokenizer.from_pretrained(model)\n",
        "\n",
        "# Setting-up Language generation Pipeline\n",
        "\n",
        "pipeline = transformers.pipeline(\n",
        "    \"text-generation\", #task\n",
        "    model=model,\n",
        "    tokenizer=tokenizer,\n",
        "    torch_dtype=torch.bfloat16,\n",
        "    trust_remote_code=True,\n",
        "    device_map=\"auto\",\n",
        "    max_length=1000,\n",
        "    do_sample=True,\n",
        "    top_k=10,\n",
        "    num_return_sequences=1,\n",
        "    eos_token_id=tokenizer.eos_token_id,\n",
        ")"
      ],
      "metadata": {
        "id": "a4H7Y1YCbzNw"
      },
      "execution_count": null,
      "outputs": []
    },
    {
      "cell_type": "code",
      "source": [
        "#setting the model’s ‘temperature’ parameter, which influences the randomness of predictions\n",
        "llm = HuggingFacePipeline(pipeline = pipeline, model_kwargs = {'temperature':0})"
      ],
      "metadata": {
        "id": "G8HdutEDb5da"
      },
      "execution_count": null,
      "outputs": []
    },
    {
      "cell_type": "code",
      "source": [
        "from langchain import PromptTemplate,  LLMChain\n",
        "\n",
        "template = \"\"\"\n",
        "              Write a concise summary of the following text delimited by triple backquotes.\n",
        "              Return your response in bullet points which covers the key points of the text.\n",
        "              ```{text}```\n",
        "              BULLET POINT SUMMARY:\n",
        "           \"\"\"\n",
        "\n",
        "prompt = PromptTemplate(template=template, input_variables=[\"text\"])\n",
        "\n",
        "llm_chain = LLMChain(prompt=prompt, llm=llm)"
      ],
      "metadata": {
        "id": "FTSVf5YJRMcK"
      },
      "execution_count": null,
      "outputs": []
    },
    {
      "cell_type": "code",
      "source": [
        "\n",
        "\n",
        "text = \"\"\" As part of Meta’s commitment to open science, today we are publicly releasing LLaMA (Large Language Model Meta AI), a state-of-the-art foundational large language model designed to help researchers advance their work in this subfield of AI. Smaller, more performant models such as LLaMA enable others in the research community who don’t have access to large amounts of infrastructure to study these models, further democratizing access in this important, fast-changing field.\n",
        "\n",
        "Training smaller foundation models like LLaMA is desirable in the large language model space because it requires far less computing power and resources to test new approaches, validate others’ work, and explore new use cases. Foundation models train on a large set of unlabeled data, which makes them ideal for fine-tuning for a variety of tasks. We are making LLaMA available at several sizes (7B, 13B, 33B, and 65B parameters) and also sharing a LLaMA model card that details how we built the model in keeping with our approach to Responsible AI practices.\n",
        "\n",
        "Over the last year, large language models — natural language processing (NLP) systems with billions of parameters — have shown new capabilities to generate creative text, solve mathematical theorems, predict protein structures, answer reading comprehension questions, and more. They are one of the clearest cases of the substantial potential benefits AI can offer at scale to billions of people.\n",
        "\n",
        "Even with all the recent advancements in large language models, full research access to them remains limited because of the resources that are required to train and run such large models. This restricted access has limited researchers’ ability to understand how and why these large language models work, hindering progress on efforts to improve their robustness and mitigate known issues, such as bias, toxicity, and the potential for generating misinformation.\n",
        "\n",
        "Smaller models trained on more tokens — which are pieces of words — are easier to retrain and fine-tune for specific potential product use cases. We trained LLaMA 65B and LLaMA 33B on 1.4 trillion tokens. Our smallest model, LLaMA 7B, is trained on one trillion tokens.\n",
        "\n",
        "Like other large language models, LLaMA works by taking a sequence of words as an input and predicts a next word to recursively generate text. To train our model, we chose text from the 20 languages with the most speakers, focusing on those with Latin and Cyrillic alphabets.\n",
        "\n",
        "There is still more research that needs to be done to address the risks of bias, toxic comments, and hallucinations in large language models. Like other models, LLaMA shares these challenges. As a foundation model, LLaMA is designed to be versatile and can be applied to many different use cases, versus a fine-tuned model that is designed for a specific task. By sharing the code for LLaMA, other researchers can more easily test new approaches to limiting or eliminating these problems in large language models. We also provide in the paper a set of evaluations on benchmarks evaluating model biases and toxicity to show the model’s limitations and to support further research in this crucial area.\n",
        "\n",
        "To maintain integrity and prevent misuse, we are releasing our model under a noncommercial license focused on research use cases. Access to the model will be granted on a case-by-case basis to academic researchers; those affiliated with organizations in government, civil society, and academia; and industry research laboratories around the world. People interested in applying for access can find the link to the application in our research paper.\n",
        "\n",
        "We believe that the entire AI community — academic researchers, civil society, policymakers, and industry — must work together to develop clear guidelines around responsible AI in general and responsible large language models in particular. We look forward to seeing what the community can learn — and eventually build — using LLaMA.\n",
        "\"\"\"\n",
        "\n",
        "print(llm_chain.run(text))"
      ],
      "metadata": {
        "id": "vBmV_x9HlRHo"
      },
      "execution_count": null,
      "outputs": []
    },
    {
      "cell_type": "code",
      "source": [
        "text1 = \"\"\"\n",
        "Tesla, Inc. (/ˈtɛslə/ TESS-lə or /ˈtɛzlə/ TEZ-lə[a]) is an American multinational automotive and clean energy company headquartered in Austin, Texas. Tesla designs and manufactures electric vehicles (cars and trucks), stationary battery energy storage devices from home to grid-scale, solar panels and solar roof tiles, and related products and services.\n",
        "\n",
        "Tesla is one of the world's most valuable companies and, as of 2023, was the world's most valuable automaker. In 2022, the company led the battery electric vehicle market, with 18% share.\n",
        "\n",
        "Its subsidiary Tesla Energy develops and is a major installer of photovoltaic systems in the United States. Tesla Energy is one of the largest global suppliers of battery energy storage systems, with 6.5 gigawatt-hours (GWh) installed in 2022.\n",
        "\n",
        "Tesla was incorporated in July 2003 by Martin Eberhard and Marc Tarpenning as Tesla Motors. The company's name is a tribute to inventor and electrical engineer Nikola Tesla. In February 2004, via a $6.5 million investment, Elon Musk became the company's largest shareholder. He became CEO in 2008. Tesla's announced mission is to help expedite the move to sustainable transport and energy, obtained through electric vehicles and solar power.\n",
        "\n",
        "Tesla began production of its first car model, the Roadster sports car, in 2008. This was followed by the Model S sedan in 2012, the Model X SUV in 2015, the Model 3 sedan in 2017, the Model Y crossover in 2020, and the Tesla Semi truck in 2022. The company plans production of the Cybertruck light-duty pickup truck in 2023.[8] The Model 3 is the all-time bestselling plug-in electric car worldwide, and in June 2021 became the first electric car to sell 1 million units globally.[9] Tesla's 2022 deliveries were around 1.31 million vehicles, a 40% increase over the previous year,[10][11] and cumulative sales totaled 4 million cars as of April 2023.[12] In October 2021, Tesla's market capitalization temporarily reached $1 trillion, the sixth company to do so in U.S. history.\n",
        "\n",
        "Tesla has been the subject of lawsuits, government scrutiny, and journalistic criticism, stemming from allegations of whistleblower retaliation, worker rights violations, product defects, and Musk's many controversial statements.\n",
        "\"\"\"\n",
        "\n",
        "print(llm_chain.run(text1))"
      ],
      "metadata": {
        "id": "bCx5LAqwoB0g"
      },
      "execution_count": null,
      "outputs": []
    },
    {
      "cell_type": "code",
      "source": [
        "template = \"\"\"\n",
        "              Detect named entities in following text delimited by triple backquotes.\n",
        "              Return your response in json format with spans of named entities with fields \"named entity\",\"type\",\"span\".\n",
        "              Return all entities\n",
        "              ```{text}```\n",
        "              json format file:\n",
        "           \"\"\"\n",
        "\n",
        "prompt = PromptTemplate(template=template, input_variables=[\"text\"])\n",
        "\n",
        "llm_chain = LLMChain(prompt=prompt, llm=llm)\n",
        "print(llm_chain.run(text2))"
      ],
      "metadata": {
        "id": "0XKleo3jo9tz"
      },
      "execution_count": null,
      "outputs": []
    },
    {
      "cell_type": "code",
      "source": [
        "!pip install PyPDF4"
      ],
      "metadata": {
        "id": "G8tc4na0IrRv"
      },
      "execution_count": null,
      "outputs": []
    },
    {
      "cell_type": "code",
      "source": [
        "import PyPDF4\n",
        "\n",
        "def read_pdf(file_path):\n",
        "    # Open the PDF file in binary mode\n",
        "    with open(file_path, 'rb') as file:\n",
        "        # Create a PDF reader object\n",
        "        pdf_reader = PyPDF4.PdfFileReader(file)\n",
        "\n",
        "        # Check if the PDF file is encrypted\n",
        "        if pdf_reader.isEncrypted:\n",
        "            # If encrypted, prompt for password and decrypt the file\n",
        "            password = input(\"Enter the password for the PDF file: \")\n",
        "            pdf_reader.decrypt(password)\n",
        "\n",
        "        # Get the total number of pages in the PDF\n",
        "        total_pages = pdf_reader.numPages\n",
        "\n",
        "        # Initialize an empty string to store the text content\n",
        "        text_content = \"\"\n",
        "\n",
        "        # Loop through all pages and extract text\n",
        "        for page_number in range(total_pages):\n",
        "            try:\n",
        "                page = pdf_reader.getPage(page_number)\n",
        "                text_content += page.extractText()\n",
        "            except Exception as e:\n",
        "                # If text extraction fails for a page, handle the exception\n",
        "                print(f\"Error extracting text from page {page_number + 1}: {e}\")\n",
        "                continue\n",
        "\n",
        "    return text_content\n",
        "\n",
        "# Replace 'your_file_path.pdf' with the actual path of your PDF file\n",
        "pdf_file_path = '/content/legal.pdf'\n",
        "pdf_text_content = read_pdf(pdf_file_path)\n",
        "print(pdf_text_content)\n"
      ],
      "metadata": {
        "id": "fKufc6Y3IuRF"
      },
      "execution_count": null,
      "outputs": []
    },
    {
      "cell_type": "code",
      "source": [
        "import re\n",
        "\n",
        "def clean_text(text_content):\n",
        "    # Remove multiple whitespaces and newlines\n",
        "    cleaned_text = re.sub(r'\\s+', ' ', text_content)\n",
        "\n",
        "    # Remove leading and trailing whitespaces\n",
        "    cleaned_text = cleaned_text.strip()\n",
        "\n",
        "    # Remove special characters and symbols\n",
        "    cleaned_text = re.sub(r'[^\\w\\s]', '', cleaned_text)\n",
        "\n",
        "    return cleaned_text\n",
        "\n",
        "# Example usage:\n",
        "# Replace 'pdf_text_content' with the actual text content extracted from the PDF\n",
        "pdf_text_content\n",
        "\n",
        "# Clean the text\n",
        "cleaned_text = clean_text(pdf_text_content)\n",
        "print(cleaned_text)\n"
      ],
      "metadata": {
        "id": "oyPybZZmIxxH"
      },
      "execution_count": null,
      "outputs": []
    },
    {
      "cell_type": "code",
      "source": [
        "def split_into_paragraphs(cleaned_text):\n",
        "    # Split the cleaned text into paragraphs using double newline characters as a delimiter\n",
        "    paragraphs = cleaned_text.split('\\n\\n')\n",
        "\n",
        "    return paragraphs"
      ],
      "metadata": {
        "id": "NubW4uSmQjk5"
      },
      "execution_count": null,
      "outputs": []
    },
    {
      "cell_type": "code",
      "source": [
        "paragraphs = split_into_paragraphs(cleaned_text)\n",
        "\n",
        "# Print each paragraph\n",
        "for i, paragraph in enumerate(paragraphs, start=1):\n",
        "    print(f\"Paragraph {i}: {paragraph}\")"
      ],
      "metadata": {
        "id": "xogdSJBKQokw"
      },
      "execution_count": null,
      "outputs": []
    },
    {
      "cell_type": "code",
      "source": [],
      "metadata": {
        "id": "GSp4oxgybeaJ"
      },
      "execution_count": null,
      "outputs": []
    },
    {
      "cell_type": "code",
      "source": [
        "print(llm_chain.run(paragraphs[0]))"
      ],
      "metadata": {
        "id": "4yNpHi5DMfIu"
      },
      "execution_count": null,
      "outputs": []
    },
    {
      "cell_type": "code",
      "source": [],
      "metadata": {
        "id": "IijMkcI2Ml-K"
      },
      "execution_count": null,
      "outputs": []
    }
  ]
}